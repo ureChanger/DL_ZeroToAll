{
 "cells": [
  {
   "cell_type": "code",
   "execution_count": 2,
   "metadata": {},
   "outputs": [
    {
     "name": "stdout",
     "output_type": "stream",
     "text": [
      "0 1.28215 [0.6973746]\n",
      "1 0.20514384 [1.1210501]\n",
      "2 0.03282308 [0.9515799]\n",
      "3 0.0052516866 [1.019368]\n",
      "4 0.0008402617 [0.9922528]\n",
      "5 0.00013443759 [1.0030988]\n",
      "6 2.1507858e-05 [0.9987605]\n",
      "7 3.4409734e-06 [1.0004958]\n",
      "8 5.5047536e-07 [0.9998017]\n",
      "9 8.803825e-08 [1.0000793]\n",
      "10 1.4141381e-08 [0.99996823]\n",
      "11 2.268692e-09 [1.0000128]\n",
      "12 3.6117243e-10 [0.99999493]\n",
      "13 5.8960836e-11 [1.000002]\n",
      "14 9.166001e-12 [0.99999917]\n",
      "15 7.9580786e-13 [1.0000002]\n",
      "16 2.9842795e-13 [0.9999999]\n",
      "17 2.9842795e-13 [1.0000001]\n",
      "18 7.460699e-14 [0.99999994]\n",
      "19 0.0 [1.]\n",
      "20 0.0 [1.]\n",
      "21 0.0 [1.]\n"
     ]
    }
   ],
   "source": [
    "import tensorflow.compat.v1 as tf\n",
    "tf.disable_eager_execution()\n",
    "\n",
    "x_data = [1, 2, 3]\n",
    "y_data = [1, 2, 3]\n",
    "\n",
    "W = tf.Variable(tf.random_normal([1]), name='weight')\n",
    "X = tf.placeholder(tf.float32)\n",
    "Y = tf.placeholder(tf.float32)\n",
    "\n",
    "#Our hypothesis for Linear model X * W\n",
    "hypothesis = X * W\n",
    "\n",
    "#Cost/Loss function\n",
    "cost = tf.reduce_sum(tf.square(hypothesis - Y))\n",
    "\n",
    "#Minimize: Gradient Descent using derivative: W -= Learning_rate * derivative\n",
    "learning_rate = 0.1\n",
    "gradient = tf.reduce_sum(X * ( X * W - Y))\n",
    "descent = W - learning_rate * gradient\n",
    "update = W.assign(descent)\n",
    "\n",
    "#Launch the graph in a Session\n",
    "sess = tf.Session()\n",
    "\n",
    "#Initializes global variables in the graph\n",
    "sess.run(tf.global_variables_initializer())\n",
    "for step in range(22):\n",
    "    sess.run(update, feed_dict={X:x_data, Y:y_data})\n",
    "    print(step, sess.run(cost, feed_dict={X:x_data, Y:y_data}), sess.run(W))"
   ]
  }
 ],
 "metadata": {
  "kernelspec": {
   "display_name": "Python 3",
   "language": "python",
   "name": "python3"
  },
  "language_info": {
   "codemirror_mode": {
    "name": "ipython",
    "version": 3
   },
   "file_extension": ".py",
   "mimetype": "text/x-python",
   "name": "python",
   "nbconvert_exporter": "python",
   "pygments_lexer": "ipython3",
   "version": "3.7.4"
  }
 },
 "nbformat": 4,
 "nbformat_minor": 4
}
